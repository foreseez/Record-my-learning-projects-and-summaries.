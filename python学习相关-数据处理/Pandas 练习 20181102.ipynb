{
 "cells": [
  {
   "cell_type": "code",
   "execution_count": 1,
   "metadata": {},
   "outputs": [
    {
     "name": "stdout",
     "output_type": "stream",
     "text": [
      "[[30 29 28 27]\n",
      " [26 25 24 23]\n",
      " [22 21 20 19]]\n",
      "[ 30  59  87 114 140 165 189 212 234 255 275 294]\n",
      "[78 75 72 69]\n",
      "[114  98  82]\n",
      "[[-1 -1 -1]\n",
      " [-1 -1 -1]\n",
      " [-1 -1 -1]]\n",
      "(array([0, 0, 0, 0, 1, 1, 1, 1, 2, 2, 2, 2], dtype=int64), array([0, 1, 2, 3, 0, 1, 2, 3, 0, 1, 2, 3], dtype=int64))\n",
      "[[27 28 29 30]\n",
      " [23 24 25 26]\n",
      " [19 20 21 22]]\n",
      "[[30 26 22]\n",
      " [29 25 21]\n",
      " [28 24 20]\n",
      " [27 23 19]]\n",
      "[[2060 1982 1904 1826]\n",
      " [1982 1907 1832 1757]\n",
      " [1904 1832 1760 1688]\n",
      " [1826 1757 1688 1619]]\n",
      "[[25 25 25 25]\n",
      " [25 25 24 23]\n",
      " [22 21 20 20]]\n"
     ]
    }
   ],
   "source": [
    "import numpy as np\n",
    "a = np.arange(30,18,-1).reshape(3,4)  #降序 \n",
    "print(a)\n",
    "print(np.cumsum(a)) #后一个数和前面的数分别累加\n",
    "\n",
    "print(np.sum(a,axis=0))  # 对列进行求和计算\n",
    "\n",
    "print(np.sum(a,axis=1)) # 对行进行计算\n",
    "\n",
    "\n",
    "print(np.diff(a))  #累减\n",
    "print(np.nonzero(a))\n",
    "print(np.sort(a)) #排序了 \n",
    "print(np.transpose(a))   \n",
    "\n",
    "print((a.T).dot(a))  #@转置*原矩阵\n",
    "print(np.clip(a,20,25))  #大于25的数变成25，小于20的数变成20\n",
    " "
   ]
  },
  {
   "cell_type": "code",
   "execution_count": null,
   "metadata": {},
   "outputs": [],
   "source": []
  },
  {
   "cell_type": "code",
   "execution_count": 30,
   "metadata": {
    "scrolled": true
   },
   "outputs": [
    {
     "name": "stdout",
     "output_type": "stream",
     "text": [
      "[11 12 13 14]\n",
      "12\n",
      "[ 4  8 12]\n",
      "[11 12 13 14]\n",
      "[3 4 5 6]\n",
      "[ 7  8  9 10]\n",
      "[11 12 13 14]\n",
      "[3 4 5 6]\n",
      "[ 7  8  9 10]\n",
      "[11 12 13 14]\n",
      "[ 3  4  5  6  7  8  9 10 11 12 13 14]\n",
      "3\n",
      "4\n",
      "5\n",
      "6\n",
      "7\n",
      "8\n",
      "9\n",
      "10\n",
      "11\n",
      "12\n",
      "13\n",
      "14\n"
     ]
    }
   ],
   "source": [
    "import numpy as np\n",
    "a = np.arange(3,15).reshape(3,4)  #产生三行四列的矩阵 从3到15\n",
    "print(a[2]) #索引 \n",
    "\n",
    "print(a[2][1])\n",
    "print(a[:,1]) #打印第1列  \n",
    "print(a[2,:])  #打印第二行\n",
    "\n",
    "for row in a:\n",
    "    print(row)\n",
    "for column in a:\n",
    "    print(column)\n",
    "    \n",
    "\n",
    "print(a.flatten())\n",
    "\n",
    "for item in a.flat:   #把三行四列  变成一行输出\n",
    "    print(item)\n"
   ]
  },
  {
   "cell_type": "code",
   "execution_count": 39,
   "metadata": {},
   "outputs": [
    {
     "name": "stdout",
     "output_type": "stream",
     "text": [
      "(3,) (6,) (2, 3)\n",
      "[[1 5 9]\n",
      " [2 5 7]]\n",
      "-------------\n",
      "[1 5 9 2 5 7]\n"
     ]
    }
   ],
   "source": [
    "import numpy as np\n",
    "a = np.array([1,5,9])\n",
    "b = np.array([2,5,7])\n",
    "print(a.shape,d.shape,c.shape)  #行数或列数\n",
    "c= np.vstack((a,b)) #垂直合并数组\n",
    "d = np.hstack((a,b))#水平合并数组\n",
    "\n",
    "\n",
    "print(c)\n",
    "print(\"-------------\")\n",
    "print(d)\n",
    "\n"
   ]
  },
  {
   "cell_type": "code",
   "execution_count": 50,
   "metadata": {},
   "outputs": [
    {
     "name": "stdout",
     "output_type": "stream",
     "text": [
      "[[30 29 28 27]\n",
      " [26 25 24 23]\n",
      " [22 21 20 19]\n",
      " [18 17 16 15]]\n",
      "[array([[30, 29],\n",
      "       [26, 25],\n",
      "       [22, 21],\n",
      "       [18, 17]]), array([[28, 27],\n",
      "       [24, 23],\n",
      "       [20, 19],\n",
      "       [16, 15]])]\n",
      "[array([[30, 29, 28, 27],\n",
      "       [26, 25, 24, 23]]), array([[22, 21, 20, 19],\n",
      "       [18, 17, 16, 15]])]\n",
      "[array([[30, 29],\n",
      "       [26, 25],\n",
      "       [22, 21],\n",
      "       [18, 17]]), array([[28],\n",
      "       [24],\n",
      "       [20],\n",
      "       [16]]), array([[27],\n",
      "       [23],\n",
      "       [19],\n",
      "       [15]])]\n"
     ]
    },
    {
     "data": {
      "text/plain": [
       "'3表示将矩阵竖向的分成三部分 \\n                                     分别为2,1,1列'"
      ]
     },
     "execution_count": 50,
     "metadata": {},
     "output_type": "execute_result"
    }
   ],
   "source": [
    "import numpy as np\n",
    "a = np.arange(30,14,-1).reshape(4,4)  #降序  30到14 一共16 个数 四行四列 \n",
    "print(a)\n",
    "print(np.split(a,2,axis = 1))  # 只能进行相等的块分割  竖向分割\n",
    "print(np.split(a,2,axis = 0))  #横向分割  即分割行或列必须为偶数  如果是三行就不能进行行分裂\n",
    "\"\"\"\n",
    "进行不等项的分割\n",
    "\"\"\"\n",
    "\n",
    "print(np.array_split(a,3,axis = 1)) \n",
    "\"\"\"3表示将矩阵竖向的分成三部分 \n",
    "                                     分别为2,1,1列\"\"\"\n",
    "\n",
    "\n"
   ]
  },
  {
   "cell_type": "code",
   "execution_count": 60,
   "metadata": {},
   "outputs": [
    {
     "name": "stdout",
     "output_type": "stream",
     "text": [
      "3\n"
     ]
    },
    {
     "data": {
      "text/plain": [
       "array([0, 1, 2, 3])"
      ]
     },
     "execution_count": 60,
     "metadata": {},
     "output_type": "execute_result"
    }
   ],
   "source": [
    "\"\"\"   \"\"\"\n",
    "import numpy as np\n",
    "a = np.arange(4)\n",
    "print(a[3])\n",
    "b= a.copy()\n",
    "b\n",
    "a"
   ]
  },
  {
   "cell_type": "code",
   "execution_count": 3,
   "metadata": {},
   "outputs": [
    {
     "name": "stdout",
     "output_type": "stream",
     "text": [
      "0    1.0\n",
      "1    2.0\n",
      "2    3.0\n",
      "3    4.0\n",
      "4    5.0\n",
      "5    6.0\n",
      "6    NaN\n",
      "dtype: float64\n",
      "DatetimeIndex(['2018-11-03', '2018-11-04', '2018-11-05', '2018-11-06',\n",
      "               '2018-11-07', '2018-11-08', '2018-11-09', '2018-11-10',\n",
      "               '2018-11-11', '2018-11-12'],\n",
      "              dtype='datetime64[ns]', freq='D')\n"
     ]
    },
    {
     "data": {
      "text/html": [
       "<div>\n",
       "<style scoped>\n",
       "    .dataframe tbody tr th:only-of-type {\n",
       "        vertical-align: middle;\n",
       "    }\n",
       "\n",
       "    .dataframe tbody tr th {\n",
       "        vertical-align: top;\n",
       "    }\n",
       "\n",
       "    .dataframe thead th {\n",
       "        text-align: right;\n",
       "    }\n",
       "</style>\n",
       "<table border=\"1\" class=\"dataframe\">\n",
       "  <thead>\n",
       "    <tr style=\"text-align: right;\">\n",
       "      <th></th>\n",
       "      <th>罗梦玲</th>\n",
       "      <th>张三</th>\n",
       "      <th>李四</th>\n",
       "      <th>曾玉健</th>\n",
       "      <th>蒋琰</th>\n",
       "    </tr>\n",
       "  </thead>\n",
       "  <tbody>\n",
       "    <tr>\n",
       "      <th>2018-11-03</th>\n",
       "      <td>0.025900</td>\n",
       "      <td>1.349874</td>\n",
       "      <td>1.269981</td>\n",
       "      <td>-0.540395</td>\n",
       "      <td>0.494808</td>\n",
       "    </tr>\n",
       "    <tr>\n",
       "      <th>2018-11-04</th>\n",
       "      <td>0.160948</td>\n",
       "      <td>-1.226662</td>\n",
       "      <td>-0.974195</td>\n",
       "      <td>-1.757333</td>\n",
       "      <td>1.432829</td>\n",
       "    </tr>\n",
       "    <tr>\n",
       "      <th>2018-11-05</th>\n",
       "      <td>-0.280794</td>\n",
       "      <td>0.534628</td>\n",
       "      <td>-0.053796</td>\n",
       "      <td>0.732671</td>\n",
       "      <td>-0.147732</td>\n",
       "    </tr>\n",
       "    <tr>\n",
       "      <th>2018-11-06</th>\n",
       "      <td>-1.360364</td>\n",
       "      <td>-1.994799</td>\n",
       "      <td>-0.707849</td>\n",
       "      <td>0.612152</td>\n",
       "      <td>0.416700</td>\n",
       "    </tr>\n",
       "    <tr>\n",
       "      <th>2018-11-07</th>\n",
       "      <td>-0.769379</td>\n",
       "      <td>0.435936</td>\n",
       "      <td>-1.202058</td>\n",
       "      <td>-0.302451</td>\n",
       "      <td>0.854562</td>\n",
       "    </tr>\n",
       "    <tr>\n",
       "      <th>2018-11-08</th>\n",
       "      <td>-0.217994</td>\n",
       "      <td>-1.071270</td>\n",
       "      <td>-0.347959</td>\n",
       "      <td>-0.565472</td>\n",
       "      <td>-2.616613</td>\n",
       "    </tr>\n",
       "    <tr>\n",
       "      <th>2018-11-09</th>\n",
       "      <td>1.207911</td>\n",
       "      <td>-0.170187</td>\n",
       "      <td>-0.915282</td>\n",
       "      <td>1.681036</td>\n",
       "      <td>-0.231447</td>\n",
       "    </tr>\n",
       "    <tr>\n",
       "      <th>2018-11-10</th>\n",
       "      <td>0.891080</td>\n",
       "      <td>-0.227958</td>\n",
       "      <td>-1.256034</td>\n",
       "      <td>-0.632186</td>\n",
       "      <td>-1.242976</td>\n",
       "    </tr>\n",
       "    <tr>\n",
       "      <th>2018-11-11</th>\n",
       "      <td>0.021669</td>\n",
       "      <td>2.026763</td>\n",
       "      <td>-0.707089</td>\n",
       "      <td>-2.524777</td>\n",
       "      <td>1.095094</td>\n",
       "    </tr>\n",
       "    <tr>\n",
       "      <th>2018-11-12</th>\n",
       "      <td>-0.425046</td>\n",
       "      <td>-1.463079</td>\n",
       "      <td>1.076972</td>\n",
       "      <td>0.294003</td>\n",
       "      <td>-1.164787</td>\n",
       "    </tr>\n",
       "  </tbody>\n",
       "</table>\n",
       "</div>"
      ],
      "text/plain": [
       "                 罗梦玲        张三        李四       曾玉健        蒋琰\n",
       "2018-11-03  0.025900  1.349874  1.269981 -0.540395  0.494808\n",
       "2018-11-04  0.160948 -1.226662 -0.974195 -1.757333  1.432829\n",
       "2018-11-05 -0.280794  0.534628 -0.053796  0.732671 -0.147732\n",
       "2018-11-06 -1.360364 -1.994799 -0.707849  0.612152  0.416700\n",
       "2018-11-07 -0.769379  0.435936 -1.202058 -0.302451  0.854562\n",
       "2018-11-08 -0.217994 -1.071270 -0.347959 -0.565472 -2.616613\n",
       "2018-11-09  1.207911 -0.170187 -0.915282  1.681036 -0.231447\n",
       "2018-11-10  0.891080 -0.227958 -1.256034 -0.632186 -1.242976\n",
       "2018-11-11  0.021669  2.026763 -0.707089 -2.524777  1.095094\n",
       "2018-11-12 -0.425046 -1.463079  1.076972  0.294003 -1.164787"
      ]
     },
     "execution_count": 3,
     "metadata": {},
     "output_type": "execute_result"
    }
   ],
   "source": [
    "#pandas numpy 主要用于矩阵运算 \n",
    "import numpy as np\n",
    "import pandas as pd\n",
    "s = pd.Series([1,2,3,4,5,6,np.nan]) \n",
    "print(s)\n",
    "\n",
    "dates = pd.date_range('20181103',periods = 10)\n",
    "print(dates)\n",
    "\n",
    "df = pd.DataFrame(np.random.randn(10,5),index = dates,columns = ['罗梦玲','张三','李四','曾玉健','蒋琰'])  #类似于二维数组的索引，数据是numpy的数据\n",
    "df  #6,4 表示 6行4列的随机数  invalid character in identifier  可能是中文的字符输入了\n",
    "\n"
   ]
  },
  {
   "cell_type": "code",
   "execution_count": 7,
   "metadata": {},
   "outputs": [
    {
     "name": "stdout",
     "output_type": "stream",
     "text": [
      "2018-11-08     0\n",
      "2018-11-09     4\n",
      "2018-11-10     8\n",
      "2018-11-11    12\n",
      "2018-11-12    16\n",
      "2018-11-13    20\n",
      "Freq: D, Name: A, dtype: int32 2018-11-08     0\n",
      "2018-11-09     4\n",
      "2018-11-10     8\n",
      "2018-11-11    12\n",
      "2018-11-12    16\n",
      "2018-11-13    20\n",
      "Freq: D, Name: A, dtype: int32\n"
     ]
    }
   ],
   "source": [
    "import pandas as pd\n",
    "import numpy as np\n",
    "dates = pd.date_range('20181108',periods = 6)   #下面的reshape都两层括号请注意\n",
    "df = pd.DataFrame(np.arange(24).reshape((6,4)),index = dates,columns = ['A','B','C','D'])\n",
    "print(df['A'],df.A)\n",
    "\n"
   ]
  }
 ],
 "metadata": {
  "kernelspec": {
   "display_name": "Python 3",
   "language": "python",
   "name": "python3"
  },
  "language_info": {
   "codemirror_mode": {
    "name": "ipython",
    "version": 3
   },
   "file_extension": ".py",
   "mimetype": "text/x-python",
   "name": "python",
   "nbconvert_exporter": "python",
   "pygments_lexer": "ipython3",
   "version": "3.6.5"
  }
 },
 "nbformat": 4,
 "nbformat_minor": 2
}
