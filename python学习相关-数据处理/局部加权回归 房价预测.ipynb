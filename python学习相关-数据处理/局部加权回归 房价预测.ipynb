{
 "cells": [
  {
   "cell_type": "code",
   "execution_count": 15,
   "metadata": {
    "scrolled": true
   },
   "outputs": [
    {
     "data": {
      "text/plain": [
       "<matplotlib.collections.PathCollection at 0x1df418e8978>"
      ]
     },
     "execution_count": 15,
     "metadata": {},
     "output_type": "execute_result"
    },
    {
     "data": {
      "image/png": "[encoded data removed]",
      "text/plain": [
       "<Figure size 432x288 with 1 Axes>"
      ]
     },
     "metadata": {},
     "output_type": "display_data"
    }
   ],
   "source": [
    "import numpy as np\n",
    "import math\n",
    "import matplotlib.pyplot as plt\n",
    "\n",
    "def loadDataSet(fileName):\n",
    "\n",
    "    num_fea=len(open(fileName).readline().split(','))-1 #获得特征的数量\n",
    "    fr=open(fileName)   #打开文件\n",
    "    featureArr=[]\n",
    "    labelArr=[]\n",
    "    # 读取每一行的数据\n",
    "    for line in fr.readlines():\n",
    "        line_fea=[]\n",
    "        line_data=line.strip().split(',')   #将每一行的数据按照','分隔开（使用什么分隔开看数据本身的构成）\n",
    "        line_data.insert(0,'1') #将特征进行扩充，将特征矩阵转化为增广矩阵的形式\n",
    "        for i in range(num_fea+1):\n",
    "            line_fea.append(float(line_data[i]))    #得到每一行的特征\n",
    "\n",
    "        featureArr.append(line_fea)\n",
    "        labelArr.append(float(line_data[-1]))   #得到每一行的标签\n",
    "\n",
    "    return featureArr,labelArr\n",
    "\n",
    "# 对于每个测试点求得最佳的theta\n",
    "def lwlr(testpoint,featureArr,labelArr,k=1.0):\n",
    "    feature = np.mat(featureArr)\n",
    "    label = np.mat(labelArr).T\n",
    "    num_sample = np.size(label)    #确定样本的个数\n",
    "\n",
    "    weight = np.mat(np.eye(num_sample))   #初始化权重矩阵\n",
    "\n",
    "    #确定权重\n",
    "    for i in range(num_sample):\n",
    "        diffMat = testpoint - feature[i,:]\n",
    "        weight[i,i] = np.exp((diffMat*diffMat.T)/(-2*k**2))   \n",
    "    xTwx = feature.T * weight * feature\n",
    "\n",
    "    if np.linalg.det(xTwx) == 0.0:\n",
    "        print(\"This matrix is singular, cannot do inverse\")\n",
    "        return\n",
    "    theta = xTwx.I * feature.T * weight * label\n",
    "\n",
    "    return theta\n",
    "\n",
    "# 使用训练样本来进行测试性能    \n",
    "def lwlrtest(featureArr,labelArr,k):\n",
    "    feature = np.mat(featureArr)\n",
    "    label = np.mat(labelArr)\n",
    "    num_sample = np.size(feature[:,1])\n",
    "    predict = np.zeros(num_sample)\n",
    "    for i in range(num_sample):\n",
    "        testpoint = feature[i,:]\n",
    "        theta = lwlr(testpoint,feature,label,k)\n",
    "        predict[i] = (testpoint * theta)\n",
    "\n",
    "    return predict\n",
    "\n",
    "\n",
    "## 主程序\n",
    "#得到特征以及对应的标签\n",
    "featureArr,labelArr=loadDataSet('ex1data1.txt')\n",
    "# 得到训练集预测的结果\n",
    "k = 2.0\n",
    "predict = lwlrtest(featureArr,labelArr,k)\n",
    "\n",
    "# 绘制图像\n",
    "feature = np.mat(featureArr)\n",
    "srtInd = feature[:,1].argsort(0)    # 对特征进行排序，得到排序后特征的标签\n",
    "feature_sort = feature[srtInd][:,0,:]   #得到排序后的特征\n",
    "label = np.mat(labelArr)\n",
    "fig = plt.figure()\n",
    "ax = fig.add_subplot(111)\n",
    "ax.plot(feature_sort[:,1],predict[srtInd])  #绘制拟合的曲线\n",
    "ax.scatter(feature[:,1].flatten().A[0],label.T.flatten().A[0],s=2,c='red')"
   ]
  }
 ],
 "metadata": {
  "kernelspec": {
   "display_name": "Python 3",
   "language": "python",
   "name": "python3"
  },
  "language_info": {
   "codemirror_mode": {
    "name": "ipython",
    "version": 3
   },
   "file_extension": ".py",
   "mimetype": "text/x-python",
   "name": "python",
   "nbconvert_exporter": "python",
   "pygments_lexer": "ipython3",
   "version": "3.6.5"
  }
 },
 "nbformat": 4,
 "nbformat_minor": 2
}
