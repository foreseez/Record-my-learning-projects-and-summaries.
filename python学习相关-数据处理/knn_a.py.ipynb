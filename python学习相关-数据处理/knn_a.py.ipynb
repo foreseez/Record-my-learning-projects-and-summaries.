{
 "cells": [
  {
   "cell_type": "code",
   "execution_count": null,
   "metadata": {},
   "outputs": [],
   "source": [
    "# -*- coding: utf-8 -*-\n",
    "\n",
    "import numpy as np\n",
    "import matplotlib.pyplot as plt\n",
    "from knn import *\n",
    "\n",
    "\n",
    "# data generation\n",
    "np.random.seed(314)\n",
    "data_size_1 = 300\n",
    "x1_1 = np.random.normal(loc=5.0, scale=1.0, size=data_size_1)\n",
    "x2_1 = np.random.normal(loc=4.0, scale=1.0, size=data_size_1)\n",
    "y_1 = [0 for _ in range(data_size_1)]\n",
    "\n",
    "data_size_2 = 400\n",
    "x1_2 = np.random.normal(loc=10.0, scale=2.0, size=data_size_2)\n",
    "x2_2 = np.random.normal(loc=8.0, scale=2.0, size=data_size_2)\n",
    "y_2 = [1 for _ in range(data_size_2)]\n",
    "\n",
    "x1 = np.concatenate((x1_1, x1_2), axis=0)\n",
    "x2 = np.concatenate((x2_1, x2_2), axis=0)\n",
    "x = np.hstack((x1.reshape(-1,1), x2.reshape(-1,1)))\n",
    "y = np.concatenate((y_1, y_2), axis=0)\n",
    "\n",
    "data_size_all = data_size_1+data_size_2\n",
    "shuffled_index = np.random.permutation(data_size_all)\n",
    "x = x[shuffled_index]\n",
    "y = y[shuffled_index]\n",
    "\n",
    "split_index = int(data_size_all*0.7)\n",
    "x_train = x[:split_index]\n",
    "y_train = y[:split_index]\n",
    "x_test = x[split_index:]\n",
    "y_test = y[split_index:]\n",
    "\n",
    "# visualize data\n",
    "plt.scatter(x_train[:,0], x_train[:,1], c=y_train, marker='.')\n",
    "plt.show()\n",
    "plt.scatter(x_test[:,0], x_test[:,1], c=y_test, marker='.')\n",
    "plt.show()\n",
    "\n",
    "# data preprocessing\n",
    "x_train = (x_train - np.min(x_train, axis=0)) / (np.max(x_train, axis=0) - np.min(x_train, axis=0))\n",
    "x_test = (x_test - np.min(x_test, axis=0)) / (np.max(x_test, axis=0) - np.min(x_test, axis=0))\n",
    "\n",
    "# knn classifier\n",
    "clf = KNN(k=3)\n",
    "clf.fit(x_train, y_train)\n",
    "\n",
    "print('train accuracy: {:.3}'.format(clf.score()))\n",
    "\n",
    "y_test_pred = clf.predict(x_test)\n",
    "print('test accuracy: {:.3}'.format(clf.score(y_test, y_test_pred)))"
   ]
  }
 ],
 "metadata": {
  "kernelspec": {
   "display_name": "Python 3",
   "language": "python",
   "name": "python3"
  },
  "language_info": {
   "codemirror_mode": {
    "name": "ipython",
    "version": 3
   },
   "file_extension": ".py",
   "mimetype": "text/x-python",
   "name": "python",
   "nbconvert_exporter": "python",
   "pygments_lexer": "ipython3",
   "version": "3.6.5"
  }
 },
 "nbformat": 4,
 "nbformat_minor": 2
}
