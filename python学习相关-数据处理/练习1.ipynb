{
 "cells": [
  {
   "cell_type": "code",
   "execution_count": 2,
   "metadata": {},
   "outputs": [
    {
     "data": {
      "text/plain": [
       "matrix([[101, 101],\n",
       "        [101, 100]], dtype=int32)"
      ]
     },
     "execution_count": 2,
     "metadata": {},
     "output_type": "execute_result"
    }
   ],
   "source": [
    "import numpy as np\n",
    "\n",
    "a=np.matrix([[1,1],[1,0]])\n",
    "\n",
    "a^100\n"
   ]
  },
  {
   "cell_type": "code",
   "execution_count": 31,
   "metadata": {},
   "outputs": [
    {
     "data": {
      "text/plain": [
       "matrix([[1, 1],\n",
       "        [1, 0]], dtype=int32)"
      ]
     },
     "execution_count": 31,
     "metadata": {},
     "output_type": "execute_result"
    }
   ],
   "source": [
    "d"
   ]
  },
  {
   "cell_type": "code",
   "execution_count": 7,
   "metadata": {},
   "outputs": [
    {
     "data": {
      "text/plain": [
       "array([[2, 1],\n",
       "       [1, 1]])"
      ]
     },
     "execution_count": 7,
     "metadata": {},
     "output_type": "execute_result"
    }
   ],
   "source": [
    "c"
   ]
  },
  {
   "cell_type": "code",
   "execution_count": 39,
   "metadata": {},
   "outputs": [
    {
     "data": {
      "text/plain": [
       "array([[1, 1],\n",
       "       [1, 0]])"
      ]
     },
     "execution_count": 39,
     "metadata": {},
     "output_type": "execute_result"
    }
   ],
   "source": [
    "b"
   ]
  },
  {
   "cell_type": "code",
   "execution_count": 42,
   "metadata": {},
   "outputs": [
    {
     "name": "stdout",
     "output_type": "stream",
     "text": [
      ">>>2\n",
      "Normal: 1\n",
      "use: 0.004975318908691406\n",
      "Matrix: 1\n",
      "use: 0.0\n"
     ]
    }
   ],
   "source": [
    "import time\n",
    "\n",
    "\n",
    "def multi(a,b):\n",
    "    c=[[0,0],[0,0]]\n",
    "    for i in range(2):\n",
    "        for j in range(2):\n",
    "            for k in range(2):\n",
    "                c[i][j]=c[i][j]+a[i][k]*b[k][j]\n",
    "    return c\n",
    "\n",
    "\n",
    "def matrix(n):\n",
    "    base=[[1,1],[1,0]]\n",
    "    ans=[[1,0],[0,1]]\n",
    "    while n:\n",
    "        if n&1:\n",
    "            ans=multi(ans,base)\n",
    "        base=multi(base,base)\n",
    "        n>>=1\n",
    "    # for i in range(2):\n",
    "    #     print(ans[i])\n",
    "    return ans[0][1]\n",
    "\n",
    "def normal(n):\n",
    "    a,b,c=0,1,1\n",
    "    while n:\n",
    "        a,b,c=b,c,b+c\n",
    "        n-=1\n",
    "    return a\n",
    "\n",
    "n=int(input(\">>>\"))\n",
    "start=time.time()\n",
    "print(\"Normal:\",normal(n))\n",
    "print(\"use:\",time.time()-start)\n",
    "start=time.time()\n",
    "print(\"Matrix:\",matrix(n))\n",
    "print(\"use:\",time.time()-start)\n"
   ]
  }
 ],
 "metadata": {
  "kernelspec": {
   "display_name": "Python 3",
   "language": "python",
   "name": "python3"
  },
  "language_info": {
   "codemirror_mode": {
    "name": "ipython",
    "version": 3
   },
   "file_extension": ".py",
   "mimetype": "text/x-python",
   "name": "python",
   "nbconvert_exporter": "python",
   "pygments_lexer": "ipython3",
   "version": "3.6.5"
  }
 },
 "nbformat": 4,
 "nbformat_minor": 2
}
