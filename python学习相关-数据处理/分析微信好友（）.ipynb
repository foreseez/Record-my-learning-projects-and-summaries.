{
 "cells": [
  {
   "cell_type": "code",
   "execution_count": 1,
   "metadata": {},
   "outputs": [
    {
     "name": "stdout",
     "output_type": "stream",
     "text": [
      "█\r"
     ]
    },
    {
     "name": "stderr",
     "output_type": "stream",
     "text": [
      "Getting uuid of QR code.\n",
      "Downloading QR code.\n",
      "Please scan the QR code to log in.\n",
      "Please press confirm on your phone.\n",
      "Loading the contact, this may take a little while.\n",
      "Login successfully as 曾玉健\n"
     ]
    },
    {
     "name": "stdout",
     "output_type": "stream",
     "text": [
      "<class 'wxpy.api.chats.chats.Chats'>\n"
     ]
    }
   ],
   "source": [
    "from wxpy import *\n",
    "\n",
    "# 初始化机器人，扫码登陆\n",
    "bot = Bot()\n",
    "\n",
    "# 获取所有好友\n",
    "my_friends = bot.friends()\n",
    "print(type(my_friends))"
   ]
  },
  {
   "cell_type": "code",
   "execution_count": 2,
   "metadata": {},
   "outputs": [
    {
     "name": "stdout",
     "output_type": "stream",
     "text": [
      "{'male': 296, 'female': 377}\n"
     ]
    }
   ],
   "source": [
    "# 使用一个字典统计好友男性和女性的数量\n",
    "sex_dict = {'male': 0, 'female': 0}\n",
    "\n",
    "for friend in my_friends:\n",
    "    # 统计性别\n",
    "    if friend.sex == 1:\n",
    "        sex_dict['male'] += 1\n",
    "    elif friend.sex == 2:\n",
    "        sex_dict['female'] += 1\n",
    "\n",
    "print(sex_dict)"
   ]
  },
  {
   "cell_type": "code",
   "execution_count": 4,
   "metadata": {},
   "outputs": [
    {
     "name": "stdout",
     "output_type": "stream",
     "text": [
      "[{'name': '北京', 'value': 40}, {'name': '上海', 'value': 22}, {'name': '天津', 'value': 2}, {'name': '重庆', 'value': 16}, {'name': '河北', 'value': 9}, {'name': '山西', 'value': 7}, {'name': '吉林', 'value': 1}, {'name': '辽宁', 'value': 9}, {'name': '黑龙江', 'value': 6}, {'name': '陕西', 'value': 10}, {'name': '甘肃', 'value': 4}, {'name': '青海', 'value': 0}, {'name': '山东', 'value': 11}, {'name': '福建', 'value': 12}, {'name': '浙江', 'value': 21}, {'name': '台湾', 'value': 0}, {'name': '河南', 'value': 14}, {'name': '湖北', 'value': 6}, {'name': '湖南', 'value': 12}, {'name': '江西', 'value': 8}, {'name': '江苏', 'value': 11}, {'name': '安徽', 'value': 11}, {'name': '广东', 'value': 22}, {'name': '海南', 'value': 33}, {'name': '四川', 'value': 199}, {'name': '贵州', 'value': 3}, {'name': '云南', 'value': 3}, {'name': '内蒙古', 'value': 4}, {'name': '新疆', 'value': 4}, {'name': '宁夏', 'value': 1}, {'name': '广西', 'value': 2}, {'name': '西藏', 'value': 1}, {'name': '香港', 'value': 0}, {'name': '澳门', 'value': 0}]\n"
     ]
    }
   ],
   "source": [
    "# 使用一个字典统计各省好友数量\n",
    "province_dict = {'北京': 0, '上海': 0, '天津': 0, '重庆': 0,\n",
    "    '河北': 0, '山西': 0, '吉林': 0, '辽宁': 0, '黑龙江': 0,\n",
    "    '陕西': 0, '甘肃': 0, '青海': 0, '山东': 0, '福建': 0,\n",
    "    '浙江': 0, '台湾': 0, '河南': 0, '湖北': 0, '湖南': 0,\n",
    "    '江西': 0, '江苏': 0, '安徽': 0, '广东': 0, '海南': 0,\n",
    "    '四川': 0, '贵州': 0, '云南': 0,\n",
    "    '内蒙古': 0, '新疆': 0, '宁夏': 0, '广西': 0, '西藏': 0,\n",
    "    '香港': 0, '澳门': 0}\n",
    "\n",
    "# 统计省份\n",
    "for friend in my_friends:\n",
    "    if friend.province in province_dict.keys():\n",
    "        province_dict[friend.province] += 1\n",
    "\n",
    "# 为了方便数据的呈现，生成JSON Array格式数据\n",
    "data = []\n",
    "for key, value in province_dict.items():\n",
    "    data.append({'name': key, 'value': value})\n",
    "\n",
    "print(data)"
   ]
  },
  {
   "cell_type": "code",
   "execution_count": 5,
   "metadata": {},
   "outputs": [
    {
     "ename": "NameError",
     "evalue": "name 're' is not defined",
     "output_type": "error",
     "traceback": [
      "\u001b[1;31m---------------------------------------------------------------------------\u001b[0m",
      "\u001b[1;31mNameError\u001b[0m                                 Traceback (most recent call last)",
      "\u001b[1;32m<ipython-input-5-415b71eebd25>\u001b[0m in \u001b[0;36m<module>\u001b[1;34m()\u001b[0m\n\u001b[0;32m      9\u001b[0m \u001b[1;32mfor\u001b[0m \u001b[0mfriend\u001b[0m \u001b[1;32min\u001b[0m \u001b[0mmy_friends\u001b[0m\u001b[1;33m:\u001b[0m\u001b[1;33m\u001b[0m\u001b[0m\n\u001b[0;32m     10\u001b[0m     \u001b[1;31m# 对数据进行清洗，将标点符号等对词频统计造成影响的因素剔除\u001b[0m\u001b[1;33m\u001b[0m\u001b[1;33m\u001b[0m\u001b[0m\n\u001b[1;32m---> 11\u001b[1;33m     \u001b[0mpattern\u001b[0m \u001b[1;33m=\u001b[0m \u001b[0mre\u001b[0m\u001b[1;33m.\u001b[0m\u001b[0mcompile\u001b[0m\u001b[1;33m(\u001b[0m\u001b[1;34mr'[一-龥]+'\u001b[0m\u001b[1;33m)\u001b[0m\u001b[1;33m\u001b[0m\u001b[0m\n\u001b[0m\u001b[0;32m     12\u001b[0m     \u001b[0mfilterdata\u001b[0m \u001b[1;33m=\u001b[0m \u001b[0mre\u001b[0m\u001b[1;33m.\u001b[0m\u001b[0mfindall\u001b[0m\u001b[1;33m(\u001b[0m\u001b[0mpattern\u001b[0m\u001b[1;33m,\u001b[0m \u001b[0mfriend\u001b[0m\u001b[1;33m.\u001b[0m\u001b[0msignature\u001b[0m\u001b[1;33m)\u001b[0m\u001b[1;33m\u001b[0m\u001b[0m\n\u001b[0;32m     13\u001b[0m     \u001b[0mwrite_txt_file\u001b[0m\u001b[1;33m(\u001b[0m\u001b[1;34m'signatures.txt'\u001b[0m\u001b[1;33m,\u001b[0m \u001b[1;34m''\u001b[0m\u001b[1;33m.\u001b[0m\u001b[0mjoin\u001b[0m\u001b[1;33m(\u001b[0m\u001b[0mfilterdata\u001b[0m\u001b[1;33m)\u001b[0m\u001b[1;33m)\u001b[0m\u001b[1;33m\u001b[0m\u001b[0m\n",
      "\u001b[1;31mNameError\u001b[0m: name 're' is not defined"
     ]
    }
   ],
   "source": [
    "def write_txt_file(path, txt):\n",
    "    '''\n",
    "    写入txt文本\n",
    "    '''\n",
    "    with open(path, 'a', encoding='gb18030', newline='') as f:\n",
    "        f.write(txt)    \n",
    "\n",
    "# 统计签名\n",
    "for friend in my_friends:\n",
    "    # 对数据进行清洗，将标点符号等对词频统计造成影响的因素剔除\n",
    "    pattern = re.compile(r'[一-龥]+')\n",
    "    filterdata = re.findall(pattern, friend.signature)\n",
    "    write_txt_file('signatures.txt', ''.join(filterdata))"
   ]
  },
  {
   "cell_type": "code",
   "execution_count": null,
   "metadata": {},
   "outputs": [
    {
     "name": "stderr",
     "output_type": "stream",
     "text": [
      "Getting uuid of QR code.\n",
      "Downloading QR code.\n",
      "Please scan the QR code to log in.\n",
      "Please press confirm on your phone.\n",
      "LOG OUT!\n",
      "Loading the contact, this may take a little while.\n",
      "Exception in thread _listen:\n",
      "Traceback (most recent call last):\n",
      "  File \"D:\\Anaconda\\lib\\threading.py\", line 916, in _bootstrap_inner\n",
      "    self.run()\n",
      "  File \"D:\\Anaconda\\lib\\threading.py\", line 864, in run\n",
      "    self._target(*self._args, **self._kwargs)\n",
      "  File \"D:\\Anaconda\\lib\\site-packages\\wxpy\\api\\bot.py\", line 504, in _listen\n",
      "    msg = Message(self.core.msgList.get(timeout=0.5), self)\n",
      "  File \"D:\\Anaconda\\lib\\site-packages\\wxpy\\api\\messages\\message.py\", line 49, in __init__\n",
      "    setattr(self, 'reply' + method, getattr(self.chat, 'send' + method))\n",
      "  File \"D:\\Anaconda\\lib\\site-packages\\wxpy\\api\\messages\\message.py\", line 317, in chat\n",
      "    return self.receiver\n",
      "  File \"D:\\Anaconda\\lib\\site-packages\\wxpy\\api\\messages\\message.py\", line 339, in receiver\n",
      "    return self._get_chat_by_user_name(self.raw.get('ToUserName'))\n",
      "  File \"D:\\Anaconda\\lib\\site-packages\\wxpy\\api\\messages\\message.py\", line 379, in _get_chat_by_user_name\n",
      "    _chat = match_in_chats(self.bot.groups())\n",
      "  File \"D:\\Anaconda\\lib\\site-packages\\wxpy\\utils\\misc.py\", line 96, in wrapped\n",
      "    ret = Groups(ret)\n",
      "  File \"D:\\Anaconda\\lib\\site-packages\\wxpy\\api\\chats\\groups.py\", line 35, in __init__\n",
      "    if group.bot.self in group:\n",
      "  File \"D:\\Anaconda\\lib\\site-packages\\wxpy\\api\\chats\\group.py\", line 42, in __contains__\n",
      "    for member in self.members:\n",
      "  File \"D:\\Anaconda\\lib\\site-packages\\wxpy\\api\\chats\\group.py\", line 36, in members\n",
      "    raw_member_list() or raw_member_list(True)\n",
      "  File \"D:\\Anaconda\\lib\\site-packages\\wxpy\\api\\chats\\group.py\", line 30, in raw_member_list\n",
      "    self.update_group()\n",
      "  File \"D:\\Anaconda\\lib\\site-packages\\wxpy\\api\\chats\\group.py\", line 112, in update_group\n",
      "    super(Group, self).__init__(do(), self.bot)\n",
      "  File \"D:\\Anaconda\\lib\\site-packages\\wxpy\\utils\\misc.py\", line 72, in wrapped\n",
      "    smart_map(check_response_body, ret)\n",
      "  File \"D:\\Anaconda\\lib\\site-packages\\wxpy\\utils\\misc.py\", line 207, in smart_map\n",
      "    return func(i, *args, **kwargs)\n",
      "  File \"D:\\Anaconda\\lib\\site-packages\\wxpy\\utils\\misc.py\", line 53, in check_response_body\n",
      "    raise ResponseError(err_code=err_code, err_msg=err_msg)\n",
      "wxpy.exceptions.ResponseError: err_code: -1001; err_msg: 无法找到对应的成员\n",
      "\n",
      "Login successfully as 曾玉健\n"
     ]
    },
    {
     "name": "stdout",
     "output_type": "stream",
     "text": [
      "<class 'wxpy.api.chats.chats.Chats'>\n",
      "{'male': 296, 'female': 377}\n",
      "[{'name': '北京', 'value': 40}, {'name': '上海', 'value': 22}, {'name': '天津', 'value': 2}, {'name': '重庆', 'value': 16}, {'name': '河北', 'value': 9}, {'name': '山西', 'value': 7}, {'name': '吉林', 'value': 1}, {'name': '辽宁', 'value': 9}, {'name': '黑龙江', 'value': 6}, {'name': '陕西', 'value': 10}, {'name': '甘肃', 'value': 4}, {'name': '青海', 'value': 0}, {'name': '山东', 'value': 11}, {'name': '福建', 'value': 12}, {'name': '浙江', 'value': 21}, {'name': '台湾', 'value': 0}, {'name': '河南', 'value': 14}, {'name': '湖北', 'value': 6}, {'name': '湖南', 'value': 12}, {'name': '江西', 'value': 8}, {'name': '江苏', 'value': 11}, {'name': '安徽', 'value': 11}, {'name': '广东', 'value': 22}, {'name': '海南', 'value': 33}, {'name': '四川', 'value': 199}, {'name': '贵州', 'value': 3}, {'name': '云南', 'value': 3}, {'name': '内蒙古', 'value': 4}, {'name': '新疆', 'value': 4}, {'name': '宁夏', 'value': 1}, {'name': '广西', 'value': 2}, {'name': '西藏', 'value': 1}, {'name': '香港', 'value': 0}, {'name': '澳门', 'value': 0}]\n"
     ]
    }
   ],
   "source": [
    "#-*- coding: utf-8 -*-\n",
    "import re\n",
    "from wxpy import *\n",
    "import jieba\n",
    "import numpy\n",
    "import pandas as pd\n",
    "import matplotlib.pyplot as plt\n",
    "from scipy.misc import imread\n",
    "from wordcloud import WordCloud, ImageColorGenerator\n",
    "\n",
    "def write_txt_file(path, txt):\n",
    "    '''\n",
    "    写入txt文本\n",
    "    '''\n",
    "    with open(path, 'a', encoding='gb18030', newline='') as f:\n",
    "        f.write(txt)\n",
    "\n",
    "def read_txt_file(path):\n",
    "    '''\n",
    "    读取txt文本\n",
    "    '''\n",
    "    with open(path, 'r', encoding='gb18030', newline='') as f:\n",
    "        return f.read()\n",
    "\n",
    "def login():\n",
    "    # 初始化机器人，扫码登陆\n",
    "    bot = Bot()\n",
    "\n",
    "    # 获取所有好友\n",
    "    my_friends = bot.friends()\n",
    "\n",
    "    print(type(my_friends))\n",
    "    return my_friends\n",
    "\n",
    "def show_sex_ratio(friends):\n",
    "    # 使用一个字典统计好友男性和女性的数量\n",
    "    sex_dict = {'male': 0, 'female': 0}\n",
    "\n",
    "    for friend in friends:\n",
    "        # 统计性别\n",
    "        if friend.sex == 1:\n",
    "            sex_dict['male'] += 1\n",
    "        elif friend.sex == 2:\n",
    "            sex_dict['female'] += 1\n",
    "\n",
    "    print(sex_dict)\n",
    "\n",
    "def show_area_distribution(friends):\n",
    "    # 使用一个字典统计各省好友数量\n",
    "    province_dict = {'北京': 0, '上海': 0, '天津': 0, '重庆': 0,\n",
    "        '河北': 0, '山西': 0, '吉林': 0, '辽宁': 0, '黑龙江': 0,\n",
    "        '陕西': 0, '甘肃': 0, '青海': 0, '山东': 0, '福建': 0,\n",
    "        '浙江': 0, '台湾': 0, '河南': 0, '湖北': 0, '湖南': 0,\n",
    "        '江西': 0, '江苏': 0, '安徽': 0, '广东': 0, '海南': 0,\n",
    "        '四川': 0, '贵州': 0, '云南': 0,\n",
    "        '内蒙古': 0, '新疆': 0, '宁夏': 0, '广西': 0, '西藏': 0,\n",
    "        '香港': 0, '澳门': 0}\n",
    "\n",
    "    # 统计省份\n",
    "    for friend in friends:\n",
    "        if friend.province in province_dict.keys():\n",
    "            province_dict[friend.province] += 1\n",
    "\n",
    "    # 为了方便数据的呈现，生成JSON Array格式数据\n",
    "    data = []\n",
    "    for key, value in province_dict.items():\n",
    "        data.append({'name': key, 'value': value})\n",
    "\n",
    "    print(data)\n",
    "\n",
    "def show_signature(friends):\n",
    "    # 统计签名\n",
    "    for friend in friends:\n",
    "        # 对数据进行清洗，将标点符号等对词频统计造成影响的因素剔除\n",
    "        pattern = re.compile(r'[一-龥]+')\n",
    "        filterdata = re.findall(pattern, friend.signature)\n",
    "        write_txt_file('signatures.txt', ''.join(filterdata))\n",
    "\n",
    "    # 读取文件\n",
    "    content = read_txt_file('signatures.txt')\n",
    "    segment = jieba.lcut(content)\n",
    "    words_df = pd.DataFrame({'segment':segment})\n",
    "\n",
    "    # 读取stopwords\n",
    "    stopwords = pd.read_csv(\"stopwords.txt\",index_col=False,quoting=3,sep=\" \",names=['stopword'],encoding='utf-8')\n",
    "    words_df = words_df[~words_df.segment.isin(stopwords.stopword)]\n",
    "    print(words_df)\n",
    "\n",
    "    words_stat = words_df.groupby(by=['segment'])['segment'].agg({\"计数\":numpy.size})\n",
    "    words_stat = words_stat.reset_index().sort_values(by=[\"计数\"],ascending=False)\n",
    "\n",
    "    # 设置词云属性\n",
    "    color_mask = imread('background.jfif')\n",
    "    wordcloud = WordCloud(font_path=\"simhei.ttf\",   # 设置字体可以显示中文\n",
    "                    background_color=\"white\",       # 背景颜色\n",
    "                    max_words=100,                  # 词云显示的最大词数\n",
    "                    mask=color_mask,                # 设置背景图片\n",
    "                    max_font_size=100,              # 字体最大值\n",
    "                    random_state=42,\n",
    "                    width=1000, height=860, margin=2,# 设置图片默认的大小,但是如果使用背景图片的话,                                                   # 那么保存的图片大小将会按照其大小保存,margin为词语边缘距离\n",
    "                    )\n",
    "\n",
    "    # 生成词云, 可以用generate输入全部文本,也可以我们计算好词频后使用generate_from_frequencies函数\n",
    "    word_frequence = {x[0]:x[1]for x in words_stat.head(100).values}\n",
    "    print(word_frequence)\n",
    "    word_frequence_dict = {}\n",
    "    for key in word_frequence:\n",
    "        word_frequence_dict[key] = word_frequence[key]\n",
    "\n",
    "    wordcloud.generate_from_frequencies(word_frequence_dict)\n",
    "    # 从背景图片生成颜色值  \n",
    "    image_colors = ImageColorGenerator(color_mask) \n",
    "    # 重新上色\n",
    "    wordcloud.recolor(color_func=image_colors)\n",
    "    # 保存图片\n",
    "    wordcloud.to_file('output.png')\n",
    "    plt.imshow(wordcloud)\n",
    "    plt.axis(\"off\")\n",
    "    plt.show()\n",
    "\n",
    "def main():\n",
    "    friends = login()\n",
    "    show_sex_ratio(friends)\n",
    "    show_area_distribution(friends)\n",
    "    show_signature(friends)\n",
    "\n",
    "if __name__ == '__main__':\n",
    "    main()"
   ]
  }
 ],
 "metadata": {
  "kernelspec": {
   "display_name": "Python 3",
   "language": "python",
   "name": "python3"
  },
  "language_info": {
   "codemirror_mode": {
    "name": "ipython",
    "version": 3
   },
   "file_extension": ".py",
   "mimetype": "text/x-python",
   "name": "python",
   "nbconvert_exporter": "python",
   "pygments_lexer": "ipython3",
   "version": "3.6.5"
  }
 },
 "nbformat": 4,
 "nbformat_minor": 2
}
