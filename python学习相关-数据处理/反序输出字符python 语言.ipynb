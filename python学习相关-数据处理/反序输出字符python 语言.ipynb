{
 "cells": [
  {
   "cell_type": "code",
   "execution_count": null,
   "metadata": {},
   "outputs": [
    {
     "name": "stdout",
     "output_type": "stream",
     "text": [
      "sdfv\n",
      "vfds\n",
      "cvdf\n",
      "fdvc\n",
      "1234\n",
      "4321\n",
      "4321\n",
      "1234\n",
      "juio\n",
      "oiuj\n",
      "lkoi\n",
      "iokl\n"
     ]
    }
   ],
   "source": [
    "while True:\n",
    "    try:\n",
    "        print(input()[::-1])\n",
    " \n",
    "    except:\n",
    "        break"
   ]
  }
 ],
 "metadata": {
  "kernelspec": {
   "display_name": "Python 3",
   "language": "python",
   "name": "python3"
  },
  "language_info": {
   "codemirror_mode": {
    "name": "ipython",
    "version": 3
   },
   "file_extension": ".py",
   "mimetype": "text/x-python",
   "name": "python",
   "nbconvert_exporter": "python",
   "pygments_lexer": "ipython3",
   "version": "3.6.5"
  }
 },
 "nbformat": 4,
 "nbformat_minor": 2
}
