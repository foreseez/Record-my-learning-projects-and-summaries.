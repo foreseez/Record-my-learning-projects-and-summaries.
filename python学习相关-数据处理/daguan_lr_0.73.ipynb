{
 "cells": [
  {
   "cell_type": "code",
   "execution_count": null,
   "metadata": {},
   "outputs": [],
   "source": [
    "import pandas as pd\n",
    "from sklearn.linear_model import LogisticRegression\n",
    "from sklearn.feature_extraction.text import CountVectorizer\n",
    "\"\"\"\n",
    "#数据预处理\n",
    "\"\"\"\n",
    "df_train = pd.read_csv('./new_data/new_data/train_set.csv')  #读取训练集\n",
    "df_test = pd.read_csv('./new_data/new_data/test_set.csv')  #读取测试集\n",
    "df_train.drop(columns = ['article','id'], inplace = True)  #删除训练集中的article列\n",
    "df_test.drop(columns = ['article'], inplace = True)  #删除测试集中的article列\n",
    "\"\"\"\n",
    "讲数据集中的字符文本转换成数字向量，以便计算机能够进行处理 一段文字-》》》一个向量\n",
    "特征工程\n",
    "\"\"\"\n",
    "vectorizer = CountVectorizer(ngram_range=(1,2), min_df=3, max_df =0.9, max_features =100000)\n",
    "#初始化一个 CountVectorizer\n",
    "vectorizer.fit(df_train['word_seg']) # 构建词汇表\n",
    "x_train = vectorizer.transform(df_train['word_seg'])  #将每一篇文章转化为与其对应的一个特征向量\n",
    "x_test = vectorizer.transform(df_test['word_seg'])  #注释同上\n",
    "\n",
    "y_train = df_train['class']-1 #因为从0开始计数，所以要将原值-1\n",
    "\"\"\"\n",
    "训练一个分类器\n",
    "传统监督学习算法之岁数几率回归（也叫逻辑回归）\n",
    "\"\"\"\n",
    "lg= LogisticRegression(C=4,dual=True)  #初始化一个分类器\n",
    "lg.fit(x_train,y_train)   #训练分类器\n",
    "\n",
    "\"\"\" 根据上面训练好的分类器对测试集的每个样本进行预测\"\"\"\n",
    "y_test = lg.predict(x_test)\n",
    "\n",
    "\"\"\"将测试集的预测结果保存到本地\"\"\"\n",
    "df_test['class'] =y_test.tolist()  #转换为python的list形式\n",
    "df_test['class']= df_test['class'] +1 #将class+1，保证和官方的预测值一致\n",
    "df_result = df_test.loc[:,['id','class']]\n",
    "df_result.to_csv('./result.csv',index= False)  #保存结果至本地\n",
    "\n"
   ]
  },
  {
   "cell_type": "code",
   "execution_count": 26,
   "metadata": {},
   "outputs": [
    {
     "name": "stdout",
     "output_type": "stream",
     "text": [
      "   id                                            article  \\\n",
      "0   0  7368 146447 316564 42610 55736 297797 93042 53...   \n",
      "1   1  985531 473628 1044285 1121849 206763 462208 11...   \n",
      "2   2  7368 7368 7368 7368 7368 7368 7368 7368 7368 7...   \n",
      "3   3  529819 1226459 856005 1177293 663773 272235 93...   \n",
      "4   4  42610 1252069 1077049 955883 1125260 1044285 2...   \n",
      "5   5  821297 1220011 1037539 828585 530023 593192 12...   \n",
      "6   6  7368 925120 835198 755561 641588 498390 744866...   \n",
      "7   7  999256 523980 1115452 163882 1086971 914012 34...   \n",
      "8   8  755561 345037 79747 390051 389346 744866 75959...   \n",
      "9   9  793630 593192 7368 7368 55748 555819 616873 18...   \n",
      "\n",
      "                                            word_seg  \n",
      "0  816903 565958 726082 764656 335008 75094 20282...  \n",
      "1  729468 520477 529032 101368 335130 520477 1113...  \n",
      "2  816903 816903 816903 816903 816903 816903 8169...  \n",
      "3  231664 1033823 524850 330478 507199 520477 618...  \n",
      "4  545370 379223 162767 520477 1194630 1197475 11...  \n",
      "5  922653 160975 400027 552368 520477 1142192 770...  \n",
      "6  816903 467168 507321 872938 816903 398011 6763...  \n",
      "7  1206581 800780 371356 520477 176933 960350 756...  \n",
      "8  769051 1226448 845405 284146 816903 426716 920...  \n",
      "9  203284 816903 816903 582851 1258141 1158893 32...  \n"
     ]
    }
   ],
   "source": [
    " import pandas as pd\n",
    "data = pd.read_csv('./new_data/new_data/test_set.csv',nrows =10)\n",
    " print(data)"
   ]
  }
 ],
 "metadata": {
  "kernelspec": {
   "display_name": "Python 3",
   "language": "python",
   "name": "python3"
  },
  "language_info": {
   "codemirror_mode": {
    "name": "ipython",
    "version": 3
   },
   "file_extension": ".py",
   "mimetype": "text/x-python",
   "name": "python",
   "nbconvert_exporter": "python",
   "pygments_lexer": "ipython3",
   "version": "3.6.5"
  }
 },
 "nbformat": 4,
 "nbformat_minor": 2
}
