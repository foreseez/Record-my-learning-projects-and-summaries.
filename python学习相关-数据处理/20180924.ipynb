{
 "cells": [
  {
   "cell_type": "code",
   "execution_count": 4,
   "metadata": {},
   "outputs": [
    {
     "name": "stdout",
     "output_type": "stream",
     "text": [
      "0 [[0.5098882  0.14938335]] [0.22115335]\n",
      "20 [[0.19362554 0.19932236]] [0.24214485]\n",
      "40 [[0.1264666  0.20636232]] [0.27987084]\n",
      "60 [[0.1079677  0.20348144]] [0.2930426]\n",
      "80 [[0.10251425 0.20144975]] [0.29760328]\n",
      "100 [[0.10081932 0.20054758]] [0.29917592]\n",
      "120 [[0.10027253 0.20019771]] [0.29971698]\n",
      "140 [[0.10009179 0.20006976]] [0.29990286]\n",
      "160 [[0.10003117 0.20002432]] [0.29996666]\n",
      "180 [[0.10001063 0.20000844]] [0.29998857]\n",
      "200 [[0.10000364 0.20000292]] [0.29999608]\n"
     ]
    }
   ],
   "source": [
    "import tensorflow as tf\n",
    "import numpy as np\n",
    "\n",
    "# 使用 NumPy 生成假数据(phony data), 总共 100 个点.\n",
    "x_data = np.float32(np.random.rand(2, 100)) # 随机输入\n",
    "y_data = np.dot([0.100, 0.200], x_data) + 0.300\n",
    "\n",
    "# 构造一个线性模型\n",
    "# \n",
    "b = tf.Variable(tf.zeros([1]))\n",
    "W = tf.Variable(tf.random_uniform([1, 2], -1.0, 1.0))\n",
    "y = tf.matmul(W, x_data) + b\n",
    "\n",
    "# 最小化方差\n",
    "loss = tf.reduce_mean(tf.square(y - y_data))\n",
    "optimizer = tf.train.GradientDescentOptimizer(0.5)\n",
    "train = optimizer.minimize(loss)\n",
    "\n",
    "# 初始化变量\n",
    "init = tf.global_variables_initializer()\n",
    "\n",
    "# 启动图 (graph)\n",
    "sess = tf.Session()\n",
    "sess.run(init)\n",
    "\n",
    "# 拟合平面\n",
    "for step in range(0, 201):   #python3中 range and xrange combine to range\n",
    "    sess.run(train)\n",
    "    if step % 20 == 0:\n",
    "        print (step, sess.run(W), sess.run(b))\n"
   ]
  }
 ],
 "metadata": {
  "kernelspec": {
   "display_name": "Python 3",
   "language": "python",
   "name": "python3"
  }
 },
 "nbformat": 4,
 "nbformat_minor": 2
}
